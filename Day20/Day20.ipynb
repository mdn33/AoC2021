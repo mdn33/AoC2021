{
 "cells": [
  {
   "cell_type": "code",
   "execution_count": 78,
   "id": "372756a1",
   "metadata": {},
   "outputs": [],
   "source": [
    "x = [\n",
    "['#','.','.','#','.'],\n",
    "['#','.','.','.','.'],\n",
    "['#','#','.','.','#'],\n",
    "['.','.','#','.','.'],\n",
    "['.','.','#','#','#'],\n",
    "]\n",
    "\n",
    "algo = '..#.#..#####.#.#.#.###.##.....###.##.#..###.####..#####..#....#..#..##..###..######.###...####..#..#####..##..#.#####...##.#.#..#.##..#.#......#.###.######.###.####...#.##.##..#..#..#####.....#.#....###..#.##......#.....#..#..#..##..#...##.######.####.####.#.#...#.......#..#.#.#...####.##.#......#..#...##.#.##..#...##.#.##..###.#......#.#.......#.#.#.####.###.##...#.....####.#..#..#.##.#....##..#.####....##...##..#...#......#.#.......#.......##..####..#...#.#.#...##..#.#..###..#####........#..####......#..#'"
   ]
  },
  {
   "cell_type": "code",
   "execution_count": 79,
   "id": "1b817989",
   "metadata": {},
   "outputs": [],
   "source": [
    "def convert (sequence, algo):\n",
    "    binary_numer = sequence.replace('#','1').replace('.','0')\n",
    "    index = int(binary_numer, 2)\n",
    "    return algo[index]"
   ]
  },
  {
   "cell_type": "code",
   "execution_count": 80,
   "id": "0c31e3f4",
   "metadata": {},
   "outputs": [],
   "source": [
    "def conv(img, algo):\n",
    "    output = []\n",
    "    for i in range(1, len(img)-1):\n",
    "        tmp_list = []\n",
    "        for j in range(1, len(img[0]) -1):\n",
    "            seq = ''\n",
    "            seq = seq + ''.join(img[i-1][j-1:j+2])\n",
    "            seq = seq + ''.join(img[i][j-1:j+2])\n",
    "            seq = seq + ''.join(img[i+1][j-1:j+2])\n",
    "            new_pixel = convert(seq, algo)\n",
    "            tmp_list.append(new_pixel)\n",
    "        output.append(tmp_list)\n",
    "    return output"
   ]
  },
  {
   "cell_type": "code",
   "execution_count": 81,
   "id": "d6071f0e",
   "metadata": {},
   "outputs": [],
   "source": [
    "def enhancement(img, algo, symbol):\n",
    "    img = np.pad(img, pad_width = 2, mode='constant', constant_values = symbol).tolist()\n",
    "    return conv(img, algo)"
   ]
  },
  {
   "cell_type": "code",
   "execution_count": 82,
   "id": "74d338f9",
   "metadata": {},
   "outputs": [],
   "source": [
    "def get_result(img):\n",
    "    return (np.array(img) == '#').sum()"
   ]
  },
  {
   "cell_type": "code",
   "execution_count": 109,
   "id": "457c32d4",
   "metadata": {},
   "outputs": [],
   "source": [
    "def read_file(filename):\n",
    "    output = []\n",
    "    with open(filename) as fp:\n",
    "        algo = fp.readline().strip()\n",
    "        for row in fp:\n",
    "            output.append(list(row.strip()))\n",
    "    return output[1:], algo"
   ]
  },
  {
   "cell_type": "code",
   "execution_count": 132,
   "id": "bf5e93d6",
   "metadata": {},
   "outputs": [],
   "source": [
    "def solve(filename, n):\n",
    "    img, algo = read_file(filename)\n",
    "    symbol = '.'\n",
    "    for i in range(n):\n",
    "        img = enhancement(img, algo, symbol)\n",
    "        if symbol == '.':\n",
    "            symbol = algo[0]\n",
    "        else:\n",
    "            symbol = algo[-1]\n",
    "            \n",
    "    \n",
    "    return get_result(img)"
   ]
  },
  {
   "cell_type": "code",
   "execution_count": 137,
   "id": "6b21b923",
   "metadata": {},
   "outputs": [
    {
     "data": {
      "text/plain": [
       "16605"
      ]
     },
     "execution_count": 137,
     "metadata": {},
     "output_type": "execute_result"
    }
   ],
   "source": [
    "solve('aoc22.txt', 50)"
   ]
  }
 ],
 "metadata": {
  "kernelspec": {
   "display_name": "Python 3 (ipykernel)",
   "language": "python",
   "name": "python3"
  },
  "language_info": {
   "codemirror_mode": {
    "name": "ipython",
    "version": 3
   },
   "file_extension": ".py",
   "mimetype": "text/x-python",
   "name": "python",
   "nbconvert_exporter": "python",
   "pygments_lexer": "ipython3",
   "version": "3.9.5"
  }
 },
 "nbformat": 4,
 "nbformat_minor": 5
}
